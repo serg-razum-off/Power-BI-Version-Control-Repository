{
 "cells": [
  {
   "cell_type": "code",
   "execution_count": 3,
   "metadata": {},
   "outputs": [
    {
     "data": {
      "text/html": [
       "<div>\n",
       "<style scoped>\n",
       "    .dataframe tbody tr th:only-of-type {\n",
       "        vertical-align: middle;\n",
       "    }\n",
       "\n",
       "    .dataframe tbody tr th {\n",
       "        vertical-align: top;\n",
       "    }\n",
       "\n",
       "    .dataframe thead th {\n",
       "        text-align: right;\n",
       "    }\n",
       "</style>\n",
       "<table border=\"1\" class=\"dataframe\">\n",
       "  <thead>\n",
       "    <tr style=\"text-align: right;\">\n",
       "      <th></th>\n",
       "      <th>Fiscal Year</th>\n",
       "      <th>Customer</th>\n",
       "      <th>Product</th>\n",
       "      <th>Color</th>\n",
       "      <th>Sales Amount</th>\n",
       "    </tr>\n",
       "  </thead>\n",
       "  <tbody>\n",
       "    <tr>\n",
       "      <th>0</th>\n",
       "      <td>FY2018</td>\n",
       "      <td>[Not Applicable]</td>\n",
       "      <td>Road-650 Red, 60</td>\n",
       "      <td>Red</td>\n",
       "      <td>295056.0598</td>\n",
       "    </tr>\n",
       "    <tr>\n",
       "      <th>1</th>\n",
       "      <td>FY2018</td>\n",
       "      <td>[Not Applicable]</td>\n",
       "      <td>Road-650 Red, 52</td>\n",
       "      <td>Red</td>\n",
       "      <td>135065.7658</td>\n",
       "    </tr>\n",
       "    <tr>\n",
       "      <th>2</th>\n",
       "      <td>FY2018</td>\n",
       "      <td>[Not Applicable]</td>\n",
       "      <td>Road-650 Black, 60</td>\n",
       "      <td>Black</td>\n",
       "      <td>133807.3891</td>\n",
       "    </tr>\n",
       "    <tr>\n",
       "      <th>3</th>\n",
       "      <td>FY2018</td>\n",
       "      <td>[Not Applicable]</td>\n",
       "      <td>Road-650 Black, 58</td>\n",
       "      <td>Black</td>\n",
       "      <td>234896.9840</td>\n",
       "    </tr>\n",
       "    <tr>\n",
       "      <th>4</th>\n",
       "      <td>FY2018</td>\n",
       "      <td>[Not Applicable]</td>\n",
       "      <td>Road-650 Black, 52</td>\n",
       "      <td>Black</td>\n",
       "      <td>293841.0305</td>\n",
       "    </tr>\n",
       "  </tbody>\n",
       "</table>\n",
       "</div>"
      ],
      "text/plain": [
       "  Fiscal Year          Customer             Product  Color  Sales Amount\n",
       "0      FY2018  [Not Applicable]    Road-650 Red, 60    Red   295056.0598\n",
       "1      FY2018  [Not Applicable]    Road-650 Red, 52    Red   135065.7658\n",
       "2      FY2018  [Not Applicable]  Road-650 Black, 60  Black   133807.3891\n",
       "3      FY2018  [Not Applicable]  Road-650 Black, 58  Black   234896.9840\n",
       "4      FY2018  [Not Applicable]  Road-650 Black, 52  Black   293841.0305"
      ]
     },
     "execution_count": 3,
     "metadata": {},
     "output_type": "execute_result"
    }
   ],
   "source": [
    "import pandas as pd\n",
    "\n",
    "df = pd.read_csv(\"Sales.csv\")\n",
    "df[:5]"
   ]
  },
  {
   "cell_type": "code",
   "execution_count": 3,
   "metadata": {},
   "outputs": [
    {
     "name": "stderr",
     "output_type": "stream",
     "text": [
      "C:\\Users\\Sergey\\miniconda3\\lib\\site-packages\\dtale\\views.py:725: FutureWarning:\n",
      "\n",
      "['Color'] did not aggregate successfully. If any error is raised this will raise in a future version of pandas. Drop these columns/ops to avoid this warning.\n",
      "\n"
     ]
    },
    {
     "data": {
      "text/html": [
       "\n",
       "        <iframe\n",
       "            width=\"100%\"\n",
       "            height=\"475\"\n",
       "            src=\"http://HOME-PC:40000/dtale/iframe/1\"\n",
       "            frameborder=\"0\"\n",
       "            allowfullscreen\n",
       "            \n",
       "        ></iframe>\n",
       "        "
      ],
      "text/plain": [
       "<IPython.lib.display.IFrame at 0x209515ecc40>"
      ]
     },
     "metadata": {},
     "output_type": "display_data"
    },
    {
     "data": {
      "text/plain": []
     },
     "execution_count": 3,
     "metadata": {},
     "output_type": "execute_result"
    },
    {
     "name": "stderr",
     "output_type": "stream",
     "text": [
      "C:\\Users\\Sergey\\miniconda3\\lib\\site-packages\\dtale\\views.py:1918: FutureWarning:\n",
      "\n",
      "The default value of regex will change from True to False in a future version.\n",
      "\n",
      "C:\\Users\\Sergey\\miniconda3\\lib\\site-packages\\dtale\\views.py:1918: FutureWarning:\n",
      "\n",
      "The default value of regex will change from True to False in a future version.\n",
      "\n",
      "C:\\Users\\Sergey\\miniconda3\\lib\\site-packages\\dtale\\views.py:1918: FutureWarning:\n",
      "\n",
      "The default value of regex will change from True to False in a future version.\n",
      "\n",
      "C:\\Users\\Sergey\\miniconda3\\lib\\site-packages\\dtale\\views.py:1918: FutureWarning:\n",
      "\n",
      "The default value of regex will change from True to False in a future version.\n",
      "\n"
     ]
    }
   ],
   "source": [
    "from dtale import show as dt_show\n",
    "\n",
    "dt_show(df)"
   ]
  },
  {
   "cell_type": "code",
   "execution_count": 27,
   "metadata": {},
   "outputs": [
    {
     "data": {
      "text/plain": [
       "Index(['Fiscal Year', 'Customer', 'Product', 'Color', 'Sales Amount'], dtype='object')"
      ]
     },
     "execution_count": 27,
     "metadata": {},
     "output_type": "execute_result"
    }
   ],
   "source": [
    "df.columns"
   ]
  },
  {
   "cell_type": "code",
   "execution_count": 69,
   "metadata": {},
   "outputs": [
    {
     "data": {
      "text/html": [
       "<div>\n",
       "<style scoped>\n",
       "    .dataframe tbody tr th:only-of-type {\n",
       "        vertical-align: middle;\n",
       "    }\n",
       "\n",
       "    .dataframe tbody tr th {\n",
       "        vertical-align: top;\n",
       "    }\n",
       "\n",
       "    .dataframe thead th {\n",
       "        text-align: right;\n",
       "    }\n",
       "</style>\n",
       "<table border=\"1\" class=\"dataframe\">\n",
       "  <thead>\n",
       "    <tr style=\"text-align: right;\">\n",
       "      <th></th>\n",
       "      <th>Fiscal Year</th>\n",
       "      <th>Customer</th>\n",
       "      <th>Product</th>\n",
       "      <th>Color</th>\n",
       "      <th>Sales Amount</th>\n",
       "      <th>Year</th>\n",
       "    </tr>\n",
       "  </thead>\n",
       "  <tbody>\n",
       "    <tr>\n",
       "      <th>0</th>\n",
       "      <td>FY2018</td>\n",
       "      <td>[Not Applicable]</td>\n",
       "      <td>Road-650 Red, 60</td>\n",
       "      <td>Red</td>\n",
       "      <td>295056.0598</td>\n",
       "      <td>2018</td>\n",
       "    </tr>\n",
       "    <tr>\n",
       "      <th>1</th>\n",
       "      <td>FY2018</td>\n",
       "      <td>[Not Applicable]</td>\n",
       "      <td>Road-650 Red, 52</td>\n",
       "      <td>Red</td>\n",
       "      <td>135065.7658</td>\n",
       "      <td>2018</td>\n",
       "    </tr>\n",
       "    <tr>\n",
       "      <th>2</th>\n",
       "      <td>FY2018</td>\n",
       "      <td>[Not Applicable]</td>\n",
       "      <td>Road-650 Black, 60</td>\n",
       "      <td>Black</td>\n",
       "      <td>133807.3891</td>\n",
       "      <td>2018</td>\n",
       "    </tr>\n",
       "    <tr>\n",
       "      <th>3</th>\n",
       "      <td>FY2018</td>\n",
       "      <td>[Not Applicable]</td>\n",
       "      <td>Road-650 Black, 58</td>\n",
       "      <td>Black</td>\n",
       "      <td>234896.9840</td>\n",
       "      <td>2018</td>\n",
       "    </tr>\n",
       "    <tr>\n",
       "      <th>4</th>\n",
       "      <td>FY2018</td>\n",
       "      <td>[Not Applicable]</td>\n",
       "      <td>Road-650 Black, 52</td>\n",
       "      <td>Black</td>\n",
       "      <td>293841.0305</td>\n",
       "      <td>2018</td>\n",
       "    </tr>\n",
       "  </tbody>\n",
       "</table>\n",
       "</div>"
      ],
      "text/plain": [
       "  Fiscal Year          Customer             Product  Color  Sales Amount  Year\n",
       "0      FY2018  [Not Applicable]    Road-650 Red, 60    Red   295056.0598  2018\n",
       "1      FY2018  [Not Applicable]    Road-650 Red, 52    Red   135065.7658  2018\n",
       "2      FY2018  [Not Applicable]  Road-650 Black, 60  Black   133807.3891  2018\n",
       "3      FY2018  [Not Applicable]  Road-650 Black, 58  Black   234896.9840  2018\n",
       "4      FY2018  [Not Applicable]  Road-650 Black, 52  Black   293841.0305  2018"
      ]
     },
     "execution_count": 69,
     "metadata": {},
     "output_type": "execute_result"
    }
   ],
   "source": [
    "# df[df[\"Fiscal Year\"] == 'FY2019'].__len__()\n",
    "df['Year'] = df['Fiscal Year'].str.replace('FY','').astype(int)\n",
    "df[:5]"
   ]
  },
  {
   "cell_type": "code",
   "execution_count": null,
   "metadata": {},
   "outputs": [],
   "source": []
  }
 ],
 "metadata": {
  "kernelspec": {
   "display_name": "Python 3 (ipykernel)",
   "language": "python",
   "name": "python3"
  },
  "language_info": {
   "codemirror_mode": {
    "name": "ipython",
    "version": 3
   },
   "file_extension": ".py",
   "mimetype": "text/x-python",
   "name": "python",
   "nbconvert_exporter": "python",
   "pygments_lexer": "ipython3",
   "version": "3.9.7"
  },
  "vscode": {
   "interpreter": {
    "hash": "440af35e2f0bf49aad46a3ec8bf4d3e995ab0be2709e8bb7715e65e2a2b67c0b"
   }
  }
 },
 "nbformat": 4,
 "nbformat_minor": 4
}
