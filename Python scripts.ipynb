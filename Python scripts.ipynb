{
 "cells": [
  {
   "cell_type": "markdown",
   "metadata": {},
   "source": [
    "# This is a JNB for bulk corrections in the Power BI Project"
   ]
  },
  {
   "cell_type": "code",
   "execution_count": null,
   "metadata": {},
   "outputs": [],
   "source": []
  }
 ],
 "metadata": {
  "kernelspec": {
   "display_name": "Python 3.9.7 ('base')",
   "language": "python",
   "name": "python3"
  },
  "language_info": {
   "name": "python",
   "version": "3.9.7"
  },
  "orig_nbformat": 4,
  "vscode": {
   "interpreter": {
    "hash": "440af35e2f0bf49aad46a3ec8bf4d3e995ab0be2709e8bb7715e65e2a2b67c0b"
   }
  }
 },
 "nbformat": 4,
 "nbformat_minor": 2
}
